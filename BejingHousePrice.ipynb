{
  "nbformat": 4,
  "nbformat_minor": 0,
  "metadata": {
    "colab": {
      "name": "BejingHousePrice.ipynb",
      "provenance": [],
      "collapsed_sections": [],
      "authorship_tag": "ABX9TyOPEb6GkdXxWuGvDIPR7gqp",
      "include_colab_link": true
    },
    "kernelspec": {
      "display_name": "Python 3",
      "name": "python3"
    },
    "language_info": {
      "name": "python"
    }
  },
  "cells": [
    {
      "cell_type": "markdown",
      "metadata": {
        "id": "view-in-github",
        "colab_type": "text"
      },
      "source": [
        "<a href=\"https://colab.research.google.com/github/ThomasNgVn/Beijing-Housing-Prices-Analysing-and-Predicting/blob/main/BejingHousePrice.ipynb\" target=\"_parent\"><img src=\"https://colab.research.google.com/assets/colab-badge.svg\" alt=\"Open In Colab\"/></a>"
      ]
    },
    {
      "cell_type": "markdown",
      "metadata": {
        "id": "OFyNb2snr5TR"
      },
      "source": [
        "**PROBLEM**\n",
        "\n",
        "Automatical predicting housing price\n",
        "\n",
        "**PRESENT SOLUTION**\n",
        "\n",
        "Predicting house price by expert, it take lots of time and money. They use complicate rules, and their estimate is not great. Their error rate is about 20%\n",
        "\n",
        "**SOLUTION**\n",
        "Build a model based on supervised learning. It is multivariable regression task to predict house price.\n",
        "Metric:\n",
        "RMSE\n"
      ]
    },
    {
      "cell_type": "code",
      "metadata": {
        "colab": {
          "base_uri": "https://localhost:8080/"
        },
        "id": "ONOtfDKc1_Gk",
        "outputId": "5c64d933-41ab-4258-fa6e-e4335c29dc30"
      },
      "source": [
        "from google.colab import drive\n",
        "\n",
        "drive.mount('/content/drive')"
      ],
      "execution_count": null,
      "outputs": [
        {
          "output_type": "stream",
          "name": "stdout",
          "text": [
            "Drive already mounted at /content/drive; to attempt to forcibly remount, call drive.mount(\"/content/drive\", force_remount=True).\n"
          ]
        }
      ]
    },
    {
      "cell_type": "code",
      "metadata": {
        "colab": {
          "base_uri": "https://localhost:8080/"
        },
        "id": "_74X54On3Kxe",
        "outputId": "2e2fb709-07b8-474f-bfce-bb9d4b4a073e"
      },
      "source": [
        "import pandas as pd\n",
        "path = '/content/drive//My Drive/Dataset/new.csv'\n",
        "df = pd.read_csv(path,encoding= 'unicode_escape')"
      ],
      "execution_count": null,
      "outputs": [
        {
          "output_type": "stream",
          "name": "stderr",
          "text": [
            "/usr/local/lib/python3.7/dist-packages/IPython/core/interactiveshell.py:2718: DtypeWarning: Columns (1,11,12,14) have mixed types.Specify dtype option on import or set low_memory=False.\n",
            "  interactivity=interactivity, compiler=compiler, result=result)\n"
          ]
        }
      ]
    },
    {
      "cell_type": "code",
      "metadata": {
        "id": "vRimTgiJAiJQ"
      },
      "source": [
        "import matplotlib.pyplot as plt\n",
        "import matplotlib as mpl\n",
        "import seaborn as sns\n",
        "from sklearn.preprocessing import StandardScaler\n",
        "from sklearn.model_selection import train_test_split\n",
        "from sklearn.linear_model import LinearRegression\n",
        "from sklearn.metrics import mean_squared_error\n",
        "from sklearn.tree import DecisionTreeRegressor\n",
        "from sklearn.model_selection import cross_val_score\n",
        "from sklearn.ensemble import RandomForestRegressor"
      ],
      "execution_count": null,
      "outputs": []
    },
    {
      "cell_type": "markdown",
      "metadata": {
        "id": "V7UsWgbqvCOH"
      },
      "source": [
        "**TAKE A QUICK LOOK AT DATA PICTURE**\n",
        "\n"
      ]
    },
    {
      "cell_type": "code",
      "metadata": {
        "colab": {
          "base_uri": "https://localhost:8080/",
          "height": 313
        },
        "id": "Q7vNyK4M6eZC",
        "outputId": "177da84b-c014-4dd2-9da6-ec901eebf693"
      },
      "source": [
        "df.head()\n"
      ],
      "execution_count": null,
      "outputs": [
        {
          "output_type": "execute_result",
          "data": {
            "text/html": [
              "<div>\n",
              "<style scoped>\n",
              "    .dataframe tbody tr th:only-of-type {\n",
              "        vertical-align: middle;\n",
              "    }\n",
              "\n",
              "    .dataframe tbody tr th {\n",
              "        vertical-align: top;\n",
              "    }\n",
              "\n",
              "    .dataframe thead th {\n",
              "        text-align: right;\n",
              "    }\n",
              "</style>\n",
              "<table border=\"1\" class=\"dataframe\">\n",
              "  <thead>\n",
              "    <tr style=\"text-align: right;\">\n",
              "      <th></th>\n",
              "      <th>url</th>\n",
              "      <th>id</th>\n",
              "      <th>Lng</th>\n",
              "      <th>Lat</th>\n",
              "      <th>Cid</th>\n",
              "      <th>tradeTime</th>\n",
              "      <th>DOM</th>\n",
              "      <th>followers</th>\n",
              "      <th>totalPrice</th>\n",
              "      <th>price</th>\n",
              "      <th>square</th>\n",
              "      <th>livingRoom</th>\n",
              "      <th>drawingRoom</th>\n",
              "      <th>kitchen</th>\n",
              "      <th>bathRoom</th>\n",
              "      <th>floor</th>\n",
              "      <th>buildingType</th>\n",
              "      <th>constructionTime</th>\n",
              "      <th>renovationCondition</th>\n",
              "      <th>buildingStructure</th>\n",
              "      <th>ladderRatio</th>\n",
              "      <th>elevator</th>\n",
              "      <th>fiveYearsProperty</th>\n",
              "      <th>subway</th>\n",
              "      <th>district</th>\n",
              "      <th>communityAverage</th>\n",
              "    </tr>\n",
              "  </thead>\n",
              "  <tbody>\n",
              "    <tr>\n",
              "      <th>0</th>\n",
              "      <td>https://bj.lianjia.com/chengjiao/101084782030....</td>\n",
              "      <td>101084782030</td>\n",
              "      <td>116.475489</td>\n",
              "      <td>40.019520</td>\n",
              "      <td>1111027376244</td>\n",
              "      <td>2016-08-09</td>\n",
              "      <td>1464.0</td>\n",
              "      <td>106</td>\n",
              "      <td>415.0</td>\n",
              "      <td>31680</td>\n",
              "      <td>131.00</td>\n",
              "      <td>2</td>\n",
              "      <td>1</td>\n",
              "      <td>1</td>\n",
              "      <td>1</td>\n",
              "      <td>¸ß 26</td>\n",
              "      <td>1.0</td>\n",
              "      <td>2005</td>\n",
              "      <td>3</td>\n",
              "      <td>6</td>\n",
              "      <td>0.217</td>\n",
              "      <td>1.0</td>\n",
              "      <td>0.0</td>\n",
              "      <td>1.0</td>\n",
              "      <td>7</td>\n",
              "      <td>56021.0</td>\n",
              "    </tr>\n",
              "    <tr>\n",
              "      <th>1</th>\n",
              "      <td>https://bj.lianjia.com/chengjiao/101086012217....</td>\n",
              "      <td>101086012217</td>\n",
              "      <td>116.453917</td>\n",
              "      <td>39.881534</td>\n",
              "      <td>1111027381879</td>\n",
              "      <td>2016-07-28</td>\n",
              "      <td>903.0</td>\n",
              "      <td>126</td>\n",
              "      <td>575.0</td>\n",
              "      <td>43436</td>\n",
              "      <td>132.38</td>\n",
              "      <td>2</td>\n",
              "      <td>2</td>\n",
              "      <td>1</td>\n",
              "      <td>2</td>\n",
              "      <td>¸ß 22</td>\n",
              "      <td>1.0</td>\n",
              "      <td>2004</td>\n",
              "      <td>4</td>\n",
              "      <td>6</td>\n",
              "      <td>0.667</td>\n",
              "      <td>1.0</td>\n",
              "      <td>1.0</td>\n",
              "      <td>0.0</td>\n",
              "      <td>7</td>\n",
              "      <td>71539.0</td>\n",
              "    </tr>\n",
              "    <tr>\n",
              "      <th>2</th>\n",
              "      <td>https://bj.lianjia.com/chengjiao/101086041636....</td>\n",
              "      <td>101086041636</td>\n",
              "      <td>116.561978</td>\n",
              "      <td>39.877145</td>\n",
              "      <td>1111040862969</td>\n",
              "      <td>2016-12-11</td>\n",
              "      <td>1271.0</td>\n",
              "      <td>48</td>\n",
              "      <td>1030.0</td>\n",
              "      <td>52021</td>\n",
              "      <td>198.00</td>\n",
              "      <td>3</td>\n",
              "      <td>2</td>\n",
              "      <td>1</td>\n",
              "      <td>3</td>\n",
              "      <td>ÖÐ 4</td>\n",
              "      <td>4.0</td>\n",
              "      <td>2005</td>\n",
              "      <td>3</td>\n",
              "      <td>6</td>\n",
              "      <td>0.500</td>\n",
              "      <td>1.0</td>\n",
              "      <td>0.0</td>\n",
              "      <td>0.0</td>\n",
              "      <td>7</td>\n",
              "      <td>48160.0</td>\n",
              "    </tr>\n",
              "    <tr>\n",
              "      <th>3</th>\n",
              "      <td>https://bj.lianjia.com/chengjiao/101086406841....</td>\n",
              "      <td>101086406841</td>\n",
              "      <td>116.438010</td>\n",
              "      <td>40.076114</td>\n",
              "      <td>1111043185817</td>\n",
              "      <td>2016-09-30</td>\n",
              "      <td>965.0</td>\n",
              "      <td>138</td>\n",
              "      <td>297.5</td>\n",
              "      <td>22202</td>\n",
              "      <td>134.00</td>\n",
              "      <td>3</td>\n",
              "      <td>1</td>\n",
              "      <td>1</td>\n",
              "      <td>1</td>\n",
              "      <td>µ× 21</td>\n",
              "      <td>1.0</td>\n",
              "      <td>2008</td>\n",
              "      <td>1</td>\n",
              "      <td>6</td>\n",
              "      <td>0.273</td>\n",
              "      <td>1.0</td>\n",
              "      <td>0.0</td>\n",
              "      <td>0.0</td>\n",
              "      <td>6</td>\n",
              "      <td>51238.0</td>\n",
              "    </tr>\n",
              "    <tr>\n",
              "      <th>4</th>\n",
              "      <td>https://bj.lianjia.com/chengjiao/101086920653....</td>\n",
              "      <td>101086920653</td>\n",
              "      <td>116.428392</td>\n",
              "      <td>39.886229</td>\n",
              "      <td>1111027381174</td>\n",
              "      <td>2016-08-28</td>\n",
              "      <td>927.0</td>\n",
              "      <td>286</td>\n",
              "      <td>392.0</td>\n",
              "      <td>48396</td>\n",
              "      <td>81.00</td>\n",
              "      <td>2</td>\n",
              "      <td>1</td>\n",
              "      <td>1</td>\n",
              "      <td>1</td>\n",
              "      <td>ÖÐ 6</td>\n",
              "      <td>4.0</td>\n",
              "      <td>1960</td>\n",
              "      <td>2</td>\n",
              "      <td>2</td>\n",
              "      <td>0.333</td>\n",
              "      <td>0.0</td>\n",
              "      <td>1.0</td>\n",
              "      <td>1.0</td>\n",
              "      <td>1</td>\n",
              "      <td>62588.0</td>\n",
              "    </tr>\n",
              "  </tbody>\n",
              "</table>\n",
              "</div>"
            ],
            "text/plain": [
              "                                                 url  ... communityAverage\n",
              "0  https://bj.lianjia.com/chengjiao/101084782030....  ...          56021.0\n",
              "1  https://bj.lianjia.com/chengjiao/101086012217....  ...          71539.0\n",
              "2  https://bj.lianjia.com/chengjiao/101086041636....  ...          48160.0\n",
              "3  https://bj.lianjia.com/chengjiao/101086406841....  ...          51238.0\n",
              "4  https://bj.lianjia.com/chengjiao/101086920653....  ...          62588.0\n",
              "\n",
              "[5 rows x 26 columns]"
            ]
          },
          "metadata": {},
          "execution_count": 7
        }
      ]
    },
    {
      "cell_type": "code",
      "metadata": {
        "colab": {
          "base_uri": "https://localhost:8080/"
        },
        "id": "T3d8DcvrvNId",
        "outputId": "15eee7af-29b7-4e8d-a869-558631e34b6f"
      },
      "source": [
        "df.info()"
      ],
      "execution_count": null,
      "outputs": [
        {
          "output_type": "stream",
          "name": "stdout",
          "text": [
            "<class 'pandas.core.frame.DataFrame'>\n",
            "RangeIndex: 318851 entries, 0 to 318850\n",
            "Data columns (total 26 columns):\n",
            " #   Column               Non-Null Count   Dtype  \n",
            "---  ------               --------------   -----  \n",
            " 0   url                  318851 non-null  object \n",
            " 1   id                   318851 non-null  object \n",
            " 2   Lng                  318851 non-null  float64\n",
            " 3   Lat                  318851 non-null  float64\n",
            " 4   Cid                  318851 non-null  int64  \n",
            " 5   tradeTime            318851 non-null  object \n",
            " 6   DOM                  160874 non-null  float64\n",
            " 7   followers            318851 non-null  int64  \n",
            " 8   totalPrice           318851 non-null  float64\n",
            " 9   price                318851 non-null  int64  \n",
            " 10  square               318851 non-null  float64\n",
            " 11  livingRoom           318851 non-null  object \n",
            " 12  drawingRoom          318851 non-null  object \n",
            " 13  kitchen              318851 non-null  int64  \n",
            " 14  bathRoom             318851 non-null  object \n",
            " 15  floor                318851 non-null  object \n",
            " 16  buildingType         316830 non-null  float64\n",
            " 17  constructionTime     318851 non-null  object \n",
            " 18  renovationCondition  318851 non-null  int64  \n",
            " 19  buildingStructure    318851 non-null  int64  \n",
            " 20  ladderRatio          318851 non-null  float64\n",
            " 21  elevator             318819 non-null  float64\n",
            " 22  fiveYearsProperty    318819 non-null  float64\n",
            " 23  subway               318819 non-null  float64\n",
            " 24  district             318851 non-null  int64  \n",
            " 25  communityAverage     318388 non-null  float64\n",
            "dtypes: float64(11), int64(7), object(8)\n",
            "memory usage: 63.2+ MB\n"
          ]
        }
      ]
    },
    {
      "cell_type": "code",
      "metadata": {
        "colab": {
          "base_uri": "https://localhost:8080/",
          "height": 320
        },
        "id": "Klgos8JG3c3l",
        "outputId": "7d780012-1e26-49cb-9fff-ee2d916c8398"
      },
      "source": [
        "df.describe()"
      ],
      "execution_count": null,
      "outputs": [
        {
          "output_type": "execute_result",
          "data": {
            "text/html": [
              "<div>\n",
              "<style scoped>\n",
              "    .dataframe tbody tr th:only-of-type {\n",
              "        vertical-align: middle;\n",
              "    }\n",
              "\n",
              "    .dataframe tbody tr th {\n",
              "        vertical-align: top;\n",
              "    }\n",
              "\n",
              "    .dataframe thead th {\n",
              "        text-align: right;\n",
              "    }\n",
              "</style>\n",
              "<table border=\"1\" class=\"dataframe\">\n",
              "  <thead>\n",
              "    <tr style=\"text-align: right;\">\n",
              "      <th></th>\n",
              "      <th>Lng</th>\n",
              "      <th>Lat</th>\n",
              "      <th>Cid</th>\n",
              "      <th>DOM</th>\n",
              "      <th>followers</th>\n",
              "      <th>totalPrice</th>\n",
              "      <th>price</th>\n",
              "      <th>square</th>\n",
              "      <th>kitchen</th>\n",
              "      <th>buildingType</th>\n",
              "      <th>renovationCondition</th>\n",
              "      <th>buildingStructure</th>\n",
              "      <th>ladderRatio</th>\n",
              "      <th>elevator</th>\n",
              "      <th>fiveYearsProperty</th>\n",
              "      <th>subway</th>\n",
              "      <th>district</th>\n",
              "      <th>communityAverage</th>\n",
              "    </tr>\n",
              "  </thead>\n",
              "  <tbody>\n",
              "    <tr>\n",
              "      <th>count</th>\n",
              "      <td>318851.000000</td>\n",
              "      <td>318851.000000</td>\n",
              "      <td>3.188510e+05</td>\n",
              "      <td>160874.000000</td>\n",
              "      <td>318851.000000</td>\n",
              "      <td>318851.000000</td>\n",
              "      <td>318851.000000</td>\n",
              "      <td>318851.000000</td>\n",
              "      <td>318851.000000</td>\n",
              "      <td>316830.000000</td>\n",
              "      <td>318851.000000</td>\n",
              "      <td>318851.000000</td>\n",
              "      <td>3.188510e+05</td>\n",
              "      <td>318819.000000</td>\n",
              "      <td>318819.000000</td>\n",
              "      <td>318819.000000</td>\n",
              "      <td>318851.000000</td>\n",
              "      <td>318388.000000</td>\n",
              "    </tr>\n",
              "    <tr>\n",
              "      <th>mean</th>\n",
              "      <td>116.418459</td>\n",
              "      <td>39.949591</td>\n",
              "      <td>1.129113e+12</td>\n",
              "      <td>28.822339</td>\n",
              "      <td>16.731508</td>\n",
              "      <td>349.030201</td>\n",
              "      <td>43530.436379</td>\n",
              "      <td>83.240597</td>\n",
              "      <td>0.994599</td>\n",
              "      <td>3.009790</td>\n",
              "      <td>2.606330</td>\n",
              "      <td>4.451026</td>\n",
              "      <td>6.316486e+01</td>\n",
              "      <td>0.577055</td>\n",
              "      <td>0.645601</td>\n",
              "      <td>0.601112</td>\n",
              "      <td>6.763564</td>\n",
              "      <td>63682.446305</td>\n",
              "    </tr>\n",
              "    <tr>\n",
              "      <th>std</th>\n",
              "      <td>0.112054</td>\n",
              "      <td>0.091983</td>\n",
              "      <td>2.363447e+12</td>\n",
              "      <td>50.237343</td>\n",
              "      <td>34.209185</td>\n",
              "      <td>230.780778</td>\n",
              "      <td>21709.024204</td>\n",
              "      <td>37.234661</td>\n",
              "      <td>0.109609</td>\n",
              "      <td>1.269857</td>\n",
              "      <td>1.311739</td>\n",
              "      <td>1.901753</td>\n",
              "      <td>2.506851e+04</td>\n",
              "      <td>0.494028</td>\n",
              "      <td>0.478331</td>\n",
              "      <td>0.489670</td>\n",
              "      <td>2.812616</td>\n",
              "      <td>22329.215447</td>\n",
              "    </tr>\n",
              "    <tr>\n",
              "      <th>min</th>\n",
              "      <td>116.072514</td>\n",
              "      <td>39.627030</td>\n",
              "      <td>1.111027e+12</td>\n",
              "      <td>1.000000</td>\n",
              "      <td>0.000000</td>\n",
              "      <td>0.100000</td>\n",
              "      <td>1.000000</td>\n",
              "      <td>6.900000</td>\n",
              "      <td>0.000000</td>\n",
              "      <td>0.048000</td>\n",
              "      <td>0.000000</td>\n",
              "      <td>0.000000</td>\n",
              "      <td>0.000000e+00</td>\n",
              "      <td>0.000000</td>\n",
              "      <td>0.000000</td>\n",
              "      <td>0.000000</td>\n",
              "      <td>1.000000</td>\n",
              "      <td>10847.000000</td>\n",
              "    </tr>\n",
              "    <tr>\n",
              "      <th>25%</th>\n",
              "      <td>116.344985</td>\n",
              "      <td>39.893200</td>\n",
              "      <td>1.111027e+12</td>\n",
              "      <td>1.000000</td>\n",
              "      <td>0.000000</td>\n",
              "      <td>205.000000</td>\n",
              "      <td>28050.000000</td>\n",
              "      <td>57.900000</td>\n",
              "      <td>1.000000</td>\n",
              "      <td>1.000000</td>\n",
              "      <td>1.000000</td>\n",
              "      <td>2.000000</td>\n",
              "      <td>2.500000e-01</td>\n",
              "      <td>0.000000</td>\n",
              "      <td>0.000000</td>\n",
              "      <td>0.000000</td>\n",
              "      <td>6.000000</td>\n",
              "      <td>46339.000000</td>\n",
              "    </tr>\n",
              "    <tr>\n",
              "      <th>50%</th>\n",
              "      <td>116.416780</td>\n",
              "      <td>39.934527</td>\n",
              "      <td>1.111027e+12</td>\n",
              "      <td>6.000000</td>\n",
              "      <td>5.000000</td>\n",
              "      <td>294.000000</td>\n",
              "      <td>38737.000000</td>\n",
              "      <td>74.260000</td>\n",
              "      <td>1.000000</td>\n",
              "      <td>4.000000</td>\n",
              "      <td>3.000000</td>\n",
              "      <td>6.000000</td>\n",
              "      <td>3.330000e-01</td>\n",
              "      <td>1.000000</td>\n",
              "      <td>1.000000</td>\n",
              "      <td>1.000000</td>\n",
              "      <td>7.000000</td>\n",
              "      <td>59015.000000</td>\n",
              "    </tr>\n",
              "    <tr>\n",
              "      <th>75%</th>\n",
              "      <td>116.477581</td>\n",
              "      <td>40.003018</td>\n",
              "      <td>1.111027e+12</td>\n",
              "      <td>37.000000</td>\n",
              "      <td>18.000000</td>\n",
              "      <td>425.500000</td>\n",
              "      <td>53819.500000</td>\n",
              "      <td>98.710000</td>\n",
              "      <td>1.000000</td>\n",
              "      <td>4.000000</td>\n",
              "      <td>4.000000</td>\n",
              "      <td>6.000000</td>\n",
              "      <td>5.000000e-01</td>\n",
              "      <td>1.000000</td>\n",
              "      <td>1.000000</td>\n",
              "      <td>1.000000</td>\n",
              "      <td>8.000000</td>\n",
              "      <td>75950.000000</td>\n",
              "    </tr>\n",
              "    <tr>\n",
              "      <th>max</th>\n",
              "      <td>116.732378</td>\n",
              "      <td>40.252758</td>\n",
              "      <td>1.114620e+15</td>\n",
              "      <td>1677.000000</td>\n",
              "      <td>1143.000000</td>\n",
              "      <td>18130.000000</td>\n",
              "      <td>156250.000000</td>\n",
              "      <td>1745.500000</td>\n",
              "      <td>4.000000</td>\n",
              "      <td>4.000000</td>\n",
              "      <td>4.000000</td>\n",
              "      <td>6.000000</td>\n",
              "      <td>1.000940e+07</td>\n",
              "      <td>1.000000</td>\n",
              "      <td>1.000000</td>\n",
              "      <td>1.000000</td>\n",
              "      <td>13.000000</td>\n",
              "      <td>183109.000000</td>\n",
              "    </tr>\n",
              "  </tbody>\n",
              "</table>\n",
              "</div>"
            ],
            "text/plain": [
              "                 Lng            Lat  ...       district  communityAverage\n",
              "count  318851.000000  318851.000000  ...  318851.000000     318388.000000\n",
              "mean      116.418459      39.949591  ...       6.763564      63682.446305\n",
              "std         0.112054       0.091983  ...       2.812616      22329.215447\n",
              "min       116.072514      39.627030  ...       1.000000      10847.000000\n",
              "25%       116.344985      39.893200  ...       6.000000      46339.000000\n",
              "50%       116.416780      39.934527  ...       7.000000      59015.000000\n",
              "75%       116.477581      40.003018  ...       8.000000      75950.000000\n",
              "max       116.732378      40.252758  ...      13.000000     183109.000000\n",
              "\n",
              "[8 rows x 18 columns]"
            ]
          },
          "metadata": {},
          "execution_count": 9
        }
      ]
    },
    {
      "cell_type": "code",
      "metadata": {
        "colab": {
          "base_uri": "https://localhost:8080/",
          "height": 867
        },
        "id": "dCWe7AJJAp0v",
        "outputId": "546a92f1-375c-43dc-a786-e3606acddfa2"
      },
      "source": [
        "df.hist(bins=50, figsize=(20,15))\n",
        "plt.show()\n"
      ],
      "execution_count": null,
      "outputs": [
        {
          "output_type": "display_data",
          "data": {
            "image/png": "[encoded data removed]",
            "text/plain": [
              "<Figure size 1440x1080 with 20 Axes>"
            ]
          },
          "metadata": {
            "needs_background": "light"
          }
        }
      ]
    },
    {
      "cell_type": "code",
      "metadata": {
        "colab": {
          "base_uri": "https://localhost:8080/",
          "height": 265
        },
        "id": "XaYLvlpIFWGg",
        "outputId": "149c8c70-2b25-4ef7-b6cd-ebe891db441c"
      },
      "source": [
        "fig = plt.scatter(x=df['Lat'], y=df['Lng'], alpha=0.4, \\\n",
        "    s=df['totalPrice']/100, label='Price', \\\n",
        "    c=df['district'], cmap=plt.get_cmap('jet'))\n",
        "plt.colorbar(fig)\n",
        "plt.legend()\n",
        "plt.show()"
      ],
      "execution_count": null,
      "outputs": [
        {
          "output_type": "display_data",
          "data": {
            "image/png": "[encoded data removed]",
            "text/plain": [
              "<Figure size 432x288 with 2 Axes>"
            ]
          },
          "metadata": {
            "needs_background": "light"
          }
        }
      ]
    },
    {
      "cell_type": "code",
      "metadata": {
        "colab": {
          "base_uri": "https://localhost:8080/",
          "height": 283
        },
        "id": "L-EFT3m3ZERz",
        "outputId": "5d149d82-07f3-40f9-e5fd-0b7717f9d876"
      },
      "source": [
        "fig = plt.scatter(x=df['Lat'], y=df['Lng'], alpha=0.1, \\\n",
        "                       c= df['totalPrice'], cmap=plt.get_cmap('jet'))\n",
        "plt.colorbar(fig)"
      ],
      "execution_count": null,
      "outputs": [
        {
          "output_type": "execute_result",
          "data": {
            "text/plain": [
              "<matplotlib.colorbar.Colorbar at 0x7ff76dedd5d0>"
            ]
          },
          "metadata": {},
          "execution_count": 12
        },
        {
          "output_type": "display_data",
          "data": {
            "image/png": "[encoded data removed]",
            "text/plain": [
              "<Figure size 432x288 with 2 Axes>"
            ]
          },
          "metadata": {
            "needs_background": "light"
          }
        }
      ]
    },
    {
      "cell_type": "markdown",
      "metadata": {
        "id": "viodmhMJ7eQs"
      },
      "source": [
        "**WRANGLING DATA**\n"
      ]
    },
    {
      "cell_type": "code",
      "metadata": {
        "id": "RB1WFtDlxap6"
      },
      "source": [
        "#Change type of data\n",
        "df['tradeTime'] =pd.to_datetime(df['tradeTime'])\n",
        "df['constructionTime']=pd.to_datetime(df['constructionTime'], format= '%Y',errors='coerce')\n",
        "df['livingRoom']=pd.to_numeric(df['livingRoom'],errors='coerce')\n",
        "df['drawingRoom']=pd.to_numeric(df['drawingRoom'],errors='coerce')\n",
        "df['bathRoom']=pd.to_numeric(df['bathRoom'],errors='coerce')"
      ],
      "execution_count": null,
      "outputs": []
    },
    {
      "cell_type": "code",
      "metadata": {
        "id": "gvByfTAs029Z"
      },
      "source": [
        "#Drop unnessary columns\n",
        "df.drop(['url','id','floor','DOM'],axis=1,inplace=True)"
      ],
      "execution_count": null,
      "outputs": []
    },
    {
      "cell_type": "code",
      "metadata": {
        "id": "vm0QXk_Ub7d9",
        "colab": {
          "base_uri": "https://localhost:8080/"
        },
        "outputId": "1ff02358-9c47-4128-f659-5240c65109e1"
      },
      "source": [
        "df.info()"
      ],
      "execution_count": null,
      "outputs": [
        {
          "output_type": "stream",
          "name": "stdout",
          "text": [
            "<class 'pandas.core.frame.DataFrame'>\n",
            "RangeIndex: 318851 entries, 0 to 318850\n",
            "Data columns (total 22 columns):\n",
            " #   Column               Non-Null Count   Dtype         \n",
            "---  ------               --------------   -----         \n",
            " 0   Lng                  318851 non-null  float64       \n",
            " 1   Lat                  318851 non-null  float64       \n",
            " 2   Cid                  318851 non-null  int64         \n",
            " 3   tradeTime            318851 non-null  datetime64[ns]\n",
            " 4   followers            318851 non-null  int64         \n",
            " 5   totalPrice           318851 non-null  float64       \n",
            " 6   price                318851 non-null  int64         \n",
            " 7   square               318851 non-null  float64       \n",
            " 8   livingRoom           318819 non-null  float64       \n",
            " 9   drawingRoom          318819 non-null  float64       \n",
            " 10  kitchen              318851 non-null  int64         \n",
            " 11  bathRoom             318849 non-null  float64       \n",
            " 12  buildingType         316830 non-null  float64       \n",
            " 13  constructionTime     299536 non-null  datetime64[ns]\n",
            " 14  renovationCondition  318851 non-null  int64         \n",
            " 15  buildingStructure    318851 non-null  int64         \n",
            " 16  ladderRatio          318851 non-null  float64       \n",
            " 17  elevator             318819 non-null  float64       \n",
            " 18  fiveYearsProperty    318819 non-null  float64       \n",
            " 19  subway               318819 non-null  float64       \n",
            " 20  district             318851 non-null  int64         \n",
            " 21  communityAverage     318388 non-null  float64       \n",
            "dtypes: datetime64[ns](2), float64(13), int64(7)\n",
            "memory usage: 53.5 MB\n"
          ]
        }
      ]
    },
    {
      "cell_type": "markdown",
      "metadata": {
        "id": "04hS-zwj7pKX"
      },
      "source": [
        "**EXPLORATORY DATA**\n",
        "\n"
      ]
    },
    {
      "cell_type": "code",
      "metadata": {
        "colab": {
          "base_uri": "https://localhost:8080/"
        },
        "id": "ljcTO2VpbHEJ",
        "outputId": "c3cf9251-6737-477b-dcb8-4d41821dfa2a"
      },
      "source": [
        "corr_matrix=df.corr()\n",
        "corr_matrix['totalPrice'].sort_values(ascending=False)"
      ],
      "execution_count": null,
      "outputs": [
        {
          "output_type": "execute_result",
          "data": {
            "text/plain": [
              "totalPrice             1.000000\n",
              "price                  0.622658\n",
              "square                 0.575843\n",
              "livingRoom             0.434312\n",
              "communityAverage       0.421428\n",
              "drawingRoom            0.322706\n",
              "renovationCondition    0.250890\n",
              "elevator               0.192345\n",
              "buildingStructure      0.188114\n",
              "followers              0.152681\n",
              "subway                 0.113183\n",
              "kitchen                0.081393\n",
              "Lat                    0.019969\n",
              "district               0.010315\n",
              "bathRoom               0.000473\n",
              "Cid                    0.000071\n",
              "ladderRatio           -0.001063\n",
              "fiveYearsProperty     -0.003225\n",
              "buildingType          -0.060346\n",
              "Lng                   -0.069831\n",
              "Name: totalPrice, dtype: float64"
            ]
          },
          "metadata": {},
          "execution_count": 16
        }
      ]
    },
    {
      "cell_type": "code",
      "metadata": {
        "id": "82iW0fTQhvIf"
      },
      "source": [
        "#Picking Features\n",
        "features = ['square','livingRoom','communityAverage','drawingRoom','renovationCondition','elevator','buildingStructure','followers','subway','kitchen','totalPrice']"
      ],
      "execution_count": null,
      "outputs": []
    },
    {
      "cell_type": "code",
      "metadata": {
        "colab": {
          "base_uri": "https://localhost:8080/",
          "height": 206
        },
        "id": "clcarNj5iX1o",
        "outputId": "921da16b-6f88-4882-98d4-b909d7e5bdf2"
      },
      "source": [
        "df1 = df[features]\n",
        "df1.head()"
      ],
      "execution_count": null,
      "outputs": [
        {
          "output_type": "execute_result",
          "data": {
            "text/html": [
              "<div>\n",
              "<style scoped>\n",
              "    .dataframe tbody tr th:only-of-type {\n",
              "        vertical-align: middle;\n",
              "    }\n",
              "\n",
              "    .dataframe tbody tr th {\n",
              "        vertical-align: top;\n",
              "    }\n",
              "\n",
              "    .dataframe thead th {\n",
              "        text-align: right;\n",
              "    }\n",
              "</style>\n",
              "<table border=\"1\" class=\"dataframe\">\n",
              "  <thead>\n",
              "    <tr style=\"text-align: right;\">\n",
              "      <th></th>\n",
              "      <th>square</th>\n",
              "      <th>livingRoom</th>\n",
              "      <th>communityAverage</th>\n",
              "      <th>drawingRoom</th>\n",
              "      <th>renovationCondition</th>\n",
              "      <th>elevator</th>\n",
              "      <th>buildingStructure</th>\n",
              "      <th>followers</th>\n",
              "      <th>subway</th>\n",
              "      <th>kitchen</th>\n",
              "      <th>totalPrice</th>\n",
              "    </tr>\n",
              "  </thead>\n",
              "  <tbody>\n",
              "    <tr>\n",
              "      <th>0</th>\n",
              "      <td>131.00</td>\n",
              "      <td>2.0</td>\n",
              "      <td>56021.0</td>\n",
              "      <td>1.0</td>\n",
              "      <td>3</td>\n",
              "      <td>1.0</td>\n",
              "      <td>6</td>\n",
              "      <td>106</td>\n",
              "      <td>1.0</td>\n",
              "      <td>1</td>\n",
              "      <td>415.0</td>\n",
              "    </tr>\n",
              "    <tr>\n",
              "      <th>1</th>\n",
              "      <td>132.38</td>\n",
              "      <td>2.0</td>\n",
              "      <td>71539.0</td>\n",
              "      <td>2.0</td>\n",
              "      <td>4</td>\n",
              "      <td>1.0</td>\n",
              "      <td>6</td>\n",
              "      <td>126</td>\n",
              "      <td>0.0</td>\n",
              "      <td>1</td>\n",
              "      <td>575.0</td>\n",
              "    </tr>\n",
              "    <tr>\n",
              "      <th>2</th>\n",
              "      <td>198.00</td>\n",
              "      <td>3.0</td>\n",
              "      <td>48160.0</td>\n",
              "      <td>2.0</td>\n",
              "      <td>3</td>\n",
              "      <td>1.0</td>\n",
              "      <td>6</td>\n",
              "      <td>48</td>\n",
              "      <td>0.0</td>\n",
              "      <td>1</td>\n",
              "      <td>1030.0</td>\n",
              "    </tr>\n",
              "    <tr>\n",
              "      <th>3</th>\n",
              "      <td>134.00</td>\n",
              "      <td>3.0</td>\n",
              "      <td>51238.0</td>\n",
              "      <td>1.0</td>\n",
              "      <td>1</td>\n",
              "      <td>1.0</td>\n",
              "      <td>6</td>\n",
              "      <td>138</td>\n",
              "      <td>0.0</td>\n",
              "      <td>1</td>\n",
              "      <td>297.5</td>\n",
              "    </tr>\n",
              "    <tr>\n",
              "      <th>4</th>\n",
              "      <td>81.00</td>\n",
              "      <td>2.0</td>\n",
              "      <td>62588.0</td>\n",
              "      <td>1.0</td>\n",
              "      <td>2</td>\n",
              "      <td>0.0</td>\n",
              "      <td>2</td>\n",
              "      <td>286</td>\n",
              "      <td>1.0</td>\n",
              "      <td>1</td>\n",
              "      <td>392.0</td>\n",
              "    </tr>\n",
              "  </tbody>\n",
              "</table>\n",
              "</div>"
            ],
            "text/plain": [
              "   square  livingRoom  communityAverage  ...  subway  kitchen  totalPrice\n",
              "0  131.00         2.0           56021.0  ...     1.0        1       415.0\n",
              "1  132.38         2.0           71539.0  ...     0.0        1       575.0\n",
              "2  198.00         3.0           48160.0  ...     0.0        1      1030.0\n",
              "3  134.00         3.0           51238.0  ...     0.0        1       297.5\n",
              "4   81.00         2.0           62588.0  ...     1.0        1       392.0\n",
              "\n",
              "[5 rows x 11 columns]"
            ]
          },
          "metadata": {},
          "execution_count": 35
        }
      ]
    },
    {
      "cell_type": "code",
      "metadata": {
        "colab": {
          "base_uri": "https://localhost:8080/"
        },
        "id": "A-pGsUIhm8-X",
        "outputId": "35f71cfe-9275-4e5e-adc7-e752d7aee96f"
      },
      "source": [
        "df1.isnull().sum()"
      ],
      "execution_count": null,
      "outputs": [
        {
          "output_type": "execute_result",
          "data": {
            "text/plain": [
              "square                   0\n",
              "livingRoom              32\n",
              "communityAverage       463\n",
              "drawingRoom             32\n",
              "renovationCondition      0\n",
              "elevator                32\n",
              "buildingStructure        0\n",
              "followers                0\n",
              "subway                  32\n",
              "kitchen                  0\n",
              "totalPrice               0\n",
              "dtype: int64"
            ]
          },
          "metadata": {},
          "execution_count": 36
        }
      ]
    },
    {
      "cell_type": "code",
      "metadata": {
        "colab": {
          "base_uri": "https://localhost:8080/"
        },
        "id": "FY0pHE33oxUB",
        "outputId": "bded1049-de7b-4fe3-bac1-3f18be8df7f9"
      },
      "source": [
        "df1.dropna(subset=['livingRoom','drawingRoom','elevator','subway'],inplace=True)\n",
        "mean = df1['communityAverage'].mean()\n",
        "df1['communityAverage'].fillna(mean,inplace=True)"
      ],
      "execution_count": null,
      "outputs": [
        {
          "output_type": "stream",
          "name": "stderr",
          "text": [
            "/usr/local/lib/python3.7/dist-packages/ipykernel_launcher.py:1: SettingWithCopyWarning: \n",
            "A value is trying to be set on a copy of a slice from a DataFrame\n",
            "\n",
            "See the caveats in the documentation: https://pandas.pydata.org/pandas-docs/stable/user_guide/indexing.html#returning-a-view-versus-a-copy\n",
            "  \"\"\"Entry point for launching an IPython kernel.\n",
            "/usr/local/lib/python3.7/dist-packages/pandas/core/series.py:4536: SettingWithCopyWarning: \n",
            "A value is trying to be set on a copy of a slice from a DataFrame\n",
            "\n",
            "See the caveats in the documentation: https://pandas.pydata.org/pandas-docs/stable/user_guide/indexing.html#returning-a-view-versus-a-copy\n",
            "  downcast=downcast,\n"
          ]
        }
      ]
    },
    {
      "cell_type": "code",
      "metadata": {
        "colab": {
          "base_uri": "https://localhost:8080/"
        },
        "id": "8Nw2GXymrvAL",
        "outputId": "60a63aa8-c98c-4d14-8448-32b0a7e57093"
      },
      "source": [
        "df1.isnull().sum()"
      ],
      "execution_count": null,
      "outputs": [
        {
          "output_type": "execute_result",
          "data": {
            "text/plain": [
              "square                 0\n",
              "livingRoom             0\n",
              "communityAverage       0\n",
              "drawingRoom            0\n",
              "renovationCondition    0\n",
              "elevator               0\n",
              "buildingStructure      0\n",
              "followers              0\n",
              "subway                 0\n",
              "kitchen                0\n",
              "totalPrice             0\n",
              "dtype: int64"
            ]
          },
          "metadata": {},
          "execution_count": 38
        }
      ]
    },
    {
      "cell_type": "code",
      "metadata": {
        "id": "v3meGqHGtmzU"
      },
      "source": [
        "#Label Dataset\n",
        "X=df1.drop('totalPrice',axis=1)\n",
        "y = df1.totalPrice"
      ],
      "execution_count": null,
      "outputs": []
    },
    {
      "cell_type": "code",
      "metadata": {
        "id": "JscH7aOXsw1h"
      },
      "source": [
        "#Standardize dataset\n",
        "scaler = StandardScaler()\n",
        "X = scaler.fit_transform(X)"
      ],
      "execution_count": null,
      "outputs": []
    },
    {
      "cell_type": "code",
      "metadata": {
        "id": "oTLrIFLItCD2"
      },
      "source": [
        "#Split training, test set\n",
        "X_train, X_test, y_train, y_test = train_test_split(X,y,test_size=0.2, random_state=68)"
      ],
      "execution_count": null,
      "outputs": []
    },
    {
      "cell_type": "markdown",
      "metadata": {
        "id": "hejccIGG8bOG"
      },
      "source": [
        "**BUIDING MODEL**"
      ]
    },
    {
      "cell_type": "code",
      "metadata": {
        "colab": {
          "base_uri": "https://localhost:8080/"
        },
        "id": "uvHxifu9u9c9",
        "outputId": "0f4e16bd-d2f7-4fb3-933d-52b1b5b0494b"
      },
      "source": [
        "#Linear Regression\n",
        "lr = LinearRegression()\n",
        "lr.fit(X_train,y_train)"
      ],
      "execution_count": null,
      "outputs": [
        {
          "output_type": "execute_result",
          "data": {
            "text/plain": [
              "LinearRegression(copy_X=True, fit_intercept=True, n_jobs=None, normalize=False)"
            ]
          },
          "metadata": {},
          "execution_count": 42
        }
      ]
    },
    {
      "cell_type": "code",
      "metadata": {
        "colab": {
          "base_uri": "https://localhost:8080/"
        },
        "id": "iRyohGT_xHeK",
        "outputId": "15b48b59-1d0c-4240-d616-55dd64ca3c05"
      },
      "source": [
        "import numpy as np\n",
        "yhat=lr.predict(X_train)\n",
        "lr_mse = mean_squared_error(y_train,yhat)\n",
        "lr_rmse=np.sqrt(lr_mse)\n",
        "lr_rmse"
      ],
      "execution_count": null,
      "outputs": [
        {
          "output_type": "execute_result",
          "data": {
            "text/plain": [
              "133.64535838374093"
            ]
          },
          "metadata": {},
          "execution_count": 43
        }
      ]
    },
    {
      "cell_type": "markdown",
      "metadata": {
        "id": "Y1U187fXy5_N"
      },
      "source": [
        "**Underfiting**\n",
        "\n",
        "Median_price is bw 205-405, so this result is not satisfied.\n",
        "This may because of 2 reasons: Features do not have enough information OR the model is not powerful enough.\n",
        "\n",
        "Try another complex model.\n",
        "\n"
      ]
    },
    {
      "cell_type": "code",
      "metadata": {
        "colab": {
          "base_uri": "https://localhost:8080/"
        },
        "id": "JEHwBzCzkdwm",
        "outputId": "49886d7b-d06f-4a5e-dc97-3d57ae9a663f"
      },
      "source": [
        "#Ridge Regression\n",
        "from sklearn.linear_model import Ridge\n",
        "rid = Ridge(alpha=1,solver=\"cholesky\")\n",
        "rid.fit(X_train,y_train)\n"
      ],
      "execution_count": null,
      "outputs": [
        {
          "output_type": "execute_result",
          "data": {
            "text/plain": [
              "Ridge(alpha=1, copy_X=True, fit_intercept=True, max_iter=None, normalize=False,\n",
              "      random_state=None, solver='cholesky', tol=0.001)"
            ]
          },
          "metadata": {},
          "execution_count": 69
        }
      ]
    },
    {
      "cell_type": "code",
      "metadata": {
        "colab": {
          "base_uri": "https://localhost:8080/"
        },
        "id": "s60HcUAwk5Lx",
        "outputId": "4bc1c49f-9baa-44d8-b0e0-8633947528c3"
      },
      "source": [
        "yhat=rid.predict(X_train)\n",
        "rid_mse = mean_squared_error(y_train,yhat)\n",
        "rid_rmse=np.sqrt(rid_mse)\n",
        "rid_rmse"
      ],
      "execution_count": null,
      "outputs": [
        {
          "output_type": "execute_result",
          "data": {
            "text/plain": [
              "133.6453583898229"
            ]
          },
          "metadata": {},
          "execution_count": 70
        }
      ]
    },
    {
      "cell_type": "code",
      "metadata": {
        "colab": {
          "base_uri": "https://localhost:8080/"
        },
        "id": "lfyUuHZ7z1w1",
        "outputId": "19ef3c20-ca02-4d97-8339-e2eaaec39d6b"
      },
      "source": [
        "#Tree Decision Model\n",
        "tree = DecisionTreeRegressor()\n",
        "tree.fit(X_train,y_train)"
      ],
      "execution_count": null,
      "outputs": [
        {
          "output_type": "execute_result",
          "data": {
            "text/plain": [
              "DecisionTreeRegressor(ccp_alpha=0.0, criterion='mse', max_depth=None,\n",
              "                      max_features=None, max_leaf_nodes=None,\n",
              "                      min_impurity_decrease=0.0, min_impurity_split=None,\n",
              "                      min_samples_leaf=1, min_samples_split=2,\n",
              "                      min_weight_fraction_leaf=0.0, presort='deprecated',\n",
              "                      random_state=None, splitter='best')"
            ]
          },
          "metadata": {},
          "execution_count": 44
        }
      ]
    },
    {
      "cell_type": "code",
      "metadata": {
        "colab": {
          "base_uri": "https://localhost:8080/"
        },
        "id": "-TD9pxJm0HC4",
        "outputId": "be262c08-f606-44d7-92b7-33d594552042"
      },
      "source": [
        "yhat=tree.predict(X_train)\n",
        "tree_mse = mean_squared_error(y_train,yhat)\n",
        "tree_rmse = np.sqrt(tree_mse)\n",
        "tree_rmse"
      ],
      "execution_count": null,
      "outputs": [
        {
          "output_type": "execute_result",
          "data": {
            "text/plain": [
              "16.47539214710189"
            ]
          },
          "metadata": {},
          "execution_count": 45
        }
      ]
    },
    {
      "cell_type": "markdown",
      "metadata": {
        "id": "f-FfFYbz3Uxp"
      },
      "source": [
        "Tree model sounds good, but it need more evaluation"
      ]
    },
    {
      "cell_type": "markdown",
      "metadata": {
        "id": "P9dLz96i1iOx"
      },
      "source": [
        "**Evaluating Models Using Cross-Validation**"
      ]
    },
    {
      "cell_type": "code",
      "metadata": {
        "id": "_YvMagWn0oxt"
      },
      "source": [
        "#Evaluate Tree Reg Model \n",
        "from sklearn.model_selection import cross_val_score\n",
        "scores = cross_val_score(tree, X_train, y_train,\n",
        "scoring=\"neg_mean_squared_error\", cv=10)\n",
        "rmse_scores = np.sqrt(-scores)"
      ],
      "execution_count": null,
      "outputs": []
    },
    {
      "cell_type": "code",
      "metadata": {
        "colab": {
          "base_uri": "https://localhost:8080/"
        },
        "id": "BcLxwplW2jiL",
        "outputId": "25733fa9-669d-4259-9fe3-3e7a76e3df26"
      },
      "source": [
        "def display_scores(scores):\n",
        "  print('Scores:', scores)\n",
        "  print('Mean:', scores.mean())\n",
        "  print('Standard deviation:', scores.std())\n",
        "\n",
        "display_scores(rmse_scores)"
      ],
      "execution_count": null,
      "outputs": [
        {
          "output_type": "stream",
          "name": "stdout",
          "text": [
            "Scores: [145.01813535 143.31437384 142.41174744 154.42049007 148.51736797\n",
            " 149.9320515  144.94344839 143.19824032 141.12295456 144.97235461]\n",
            "Mean: 145.78511640518622\n",
            "Standard deviation: 3.8353756308185796\n"
          ]
        }
      ]
    },
    {
      "cell_type": "markdown",
      "metadata": {
        "id": "lbiG7zDY3dRF"
      },
      "source": [
        "Tree model is overfiting. After evaluating with croos_val_scores, it perform worse than LinearRegression\n"
      ]
    },
    {
      "cell_type": "code",
      "metadata": {
        "colab": {
          "base_uri": "https://localhost:8080/"
        },
        "id": "nlijENWE35je",
        "outputId": "adb1db1d-a086-40ab-ad06-9368c2c1bb86"
      },
      "source": [
        "#Evaluate LinearRegresstion\n",
        "scores = cross_val_score(lr, X_train, y_train,\n",
        "scoring=\"neg_mean_squared_error\", cv=10)\n",
        "lr_rmse_scores = np.sqrt(-scores)\n",
        "display_scores(lr_rmse_scores)"
      ],
      "execution_count": null,
      "outputs": [
        {
          "output_type": "stream",
          "name": "stdout",
          "text": [
            "Scores: [128.25558061 132.15218625 130.11586388 140.67940426 133.77487163\n",
            " 148.63850404 133.78044836 130.11065627 129.51142215 128.91299071]\n",
            "Mean: 133.59319281589583\n",
            "Standard deviation: 6.082725368854253\n"
          ]
        }
      ]
    },
    {
      "cell_type": "code",
      "metadata": {
        "colab": {
          "base_uri": "https://localhost:8080/"
        },
        "id": "lVP6Erk4qJRT",
        "outputId": "679d8351-89e8-4c22-ef9d-28507209434b"
      },
      "source": [
        "#Evaluate Ridge Regresstion\n",
        "scores = cross_val_score(rid, X_train, y_train,\n",
        "scoring=\"neg_mean_squared_error\", cv=10)\n",
        "rid_rmse_scores = np.sqrt(-scores)\n",
        "display_scores(rid_rmse_scores)"
      ],
      "execution_count": null,
      "outputs": [
        {
          "output_type": "stream",
          "name": "stdout",
          "text": [
            "Scores: [128.25546446 132.15219086 130.11580838 140.67947506 133.77485731\n",
            " 148.63875112 133.7804484  130.1106052  129.51136401 128.91291975]\n",
            "Mean: 133.59318845619845\n",
            "Standard deviation: 6.082820229424108\n"
          ]
        }
      ]
    },
    {
      "cell_type": "code",
      "metadata": {
        "colab": {
          "base_uri": "https://localhost:8080/"
        },
        "id": "iTWGfopkBjLA",
        "outputId": "5f99a50c-4a0b-41a1-f7aa-8b3780ef2b0d"
      },
      "source": [
        "#Try another complex model: Random Forest\n",
        "from sklearn.ensemble import RandomForestRegressor\n",
        "forest = RandomForestRegressor()\n",
        "forest.fit(X_train,y_train)\n"
      ],
      "execution_count": null,
      "outputs": [
        {
          "output_type": "execute_result",
          "data": {
            "text/plain": [
              "RandomForestRegressor(bootstrap=True, ccp_alpha=0.0, criterion='mse',\n",
              "                      max_depth=None, max_features='auto', max_leaf_nodes=None,\n",
              "                      max_samples=None, min_impurity_decrease=0.0,\n",
              "                      min_impurity_split=None, min_samples_leaf=1,\n",
              "                      min_samples_split=2, min_weight_fraction_leaf=0.0,\n",
              "                      n_estimators=100, n_jobs=None, oob_score=False,\n",
              "                      random_state=None, verbose=0, warm_start=False)"
            ]
          },
          "metadata": {},
          "execution_count": 49
        }
      ]
    },
    {
      "cell_type": "code",
      "metadata": {
        "colab": {
          "base_uri": "https://localhost:8080/"
        },
        "id": "suALbAyrczCp",
        "outputId": "dc9dcf6b-4896-4ed4-9af6-f7352014295a"
      },
      "source": [
        "yhat=forest.predict(X_train)\n",
        "forest_mse = mean_squared_error(y_train,yhat)\n",
        "forest_rmse = np.sqrt(forest_mse)\n",
        "forest_rmse"
      ],
      "execution_count": null,
      "outputs": [
        {
          "output_type": "execute_result",
          "data": {
            "text/plain": [
              "43.17067162153546"
            ]
          },
          "metadata": {},
          "execution_count": 51
        }
      ]
    },
    {
      "cell_type": "code",
      "metadata": {
        "colab": {
          "base_uri": "https://localhost:8080/"
        },
        "id": "FwPEWDq-CyCj",
        "outputId": "aab9a154-c3d7-438a-d6dd-130567ba5b75"
      },
      "source": [
        "#Evalute Random Forest model by Cross_val\n",
        "scores = cross_val_score(forest, X_train, y_train,\n",
        "scoring=\"neg_mean_squared_error\", cv=10)\n",
        "fr_rmse_scores = np.sqrt(-scores)\n",
        "display_scores(fr_rmse_scores)"
      ],
      "execution_count": null,
      "outputs": [
        {
          "output_type": "stream",
          "name": "stdout",
          "text": [
            "Scores: [108.02106071 105.74708505 105.71618155 118.02551489 110.65108788\n",
            " 122.08898464 107.74027689 105.90020139 105.44267379 107.58624505]\n",
            "Mean: 109.69193118541875\n",
            "Standard deviation: 5.467101695992731\n"
          ]
        }
      ]
    },
    {
      "cell_type": "markdown",
      "metadata": {
        "id": "RAMbOElS9B5P"
      },
      "source": [
        "It is better. Random Forest look promissing. Lets fine-tune it to get better results."
      ]
    },
    {
      "cell_type": "markdown",
      "metadata": {
        "id": "HSpsk9GCeVAh"
      },
      "source": [
        "**FINE-TUNE MODEL**"
      ]
    },
    {
      "cell_type": "code",
      "metadata": {
        "colab": {
          "base_uri": "https://localhost:8080/"
        },
        "id": "4sv_StPgea5A",
        "outputId": "d1ffd540-babe-4bb5-a594-070b4429df1c"
      },
      "source": [
        "from sklearn.model_selection import GridSearchCV\n",
        "param_grid = [\n",
        "{'n_estimators': [3, 10, 30], 'max_features': [2, 4, 6, 8]},\n",
        "{'bootstrap': [False], 'n_estimators': [3, 10], 'max_features': [2, 3, 4]},\n",
        "]\n",
        "forest_reg = RandomForestRegressor()\n",
        "grid_search = GridSearchCV(forest_reg, param_grid, cv=5,\n",
        "scoring='neg_mean_squared_error')\n",
        "grid_search.fit(X_train, y_train)"
      ],
      "execution_count": null,
      "outputs": [
        {
          "output_type": "execute_result",
          "data": {
            "text/plain": [
              "GridSearchCV(cv=5, error_score=nan,\n",
              "             estimator=RandomForestRegressor(bootstrap=True, ccp_alpha=0.0,\n",
              "                                             criterion='mse', max_depth=None,\n",
              "                                             max_features='auto',\n",
              "                                             max_leaf_nodes=None,\n",
              "                                             max_samples=None,\n",
              "                                             min_impurity_decrease=0.0,\n",
              "                                             min_impurity_split=None,\n",
              "                                             min_samples_leaf=1,\n",
              "                                             min_samples_split=2,\n",
              "                                             min_weight_fraction_leaf=0.0,\n",
              "                                             n_estimators=100, n_jobs=None,\n",
              "                                             oob_score=False, random_state=None,\n",
              "                                             verbose=0, warm_start=False),\n",
              "             iid='deprecated', n_jobs=None,\n",
              "             param_grid=[{'max_features': [2, 4, 6, 8],\n",
              "                          'n_estimators': [3, 10, 30]},\n",
              "                         {'bootstrap': [False], 'max_features': [2, 3, 4],\n",
              "                          'n_estimators': [3, 10]}],\n",
              "             pre_dispatch='2*n_jobs', refit=True, return_train_score=False,\n",
              "             scoring='neg_mean_squared_error', verbose=0)"
            ]
          },
          "metadata": {},
          "execution_count": 53
        }
      ]
    },
    {
      "cell_type": "code",
      "metadata": {
        "colab": {
          "base_uri": "https://localhost:8080/"
        },
        "id": "8FkZJy2Ph_i0",
        "outputId": "a77897a5-953f-4b27-b4bd-e14de73bb51c"
      },
      "source": [
        "grid_search.best_params_"
      ],
      "execution_count": null,
      "outputs": [
        {
          "output_type": "execute_result",
          "data": {
            "text/plain": [
              "{'max_features': 6, 'n_estimators': 30}"
            ]
          },
          "metadata": {},
          "execution_count": 54
        }
      ]
    },
    {
      "cell_type": "code",
      "metadata": {
        "colab": {
          "base_uri": "https://localhost:8080/"
        },
        "id": "1ofRtNeiiIcR",
        "outputId": "3527077c-ab9c-4dab-a339-a888984240d2"
      },
      "source": [
        "cvres = grid_search.cv_results_\n",
        "for mean_score, params in zip(cvres[\"mean_test_score\"], cvres[\"params\"]):\n",
        "  print(np.sqrt(-mean_score), params)\n",
        "      "
      ],
      "execution_count": null,
      "outputs": [
        {
          "output_type": "stream",
          "name": "stdout",
          "text": [
            "126.83266486057815 {'max_features': 2, 'n_estimators': 3}\n",
            "118.02687422026182 {'max_features': 2, 'n_estimators': 10}\n",
            "114.15062595262887 {'max_features': 2, 'n_estimators': 30}\n",
            "123.23145294118065 {'max_features': 4, 'n_estimators': 3}\n",
            "115.44994818113285 {'max_features': 4, 'n_estimators': 10}\n",
            "111.26127663885032 {'max_features': 4, 'n_estimators': 30}\n",
            "125.39304350123321 {'max_features': 6, 'n_estimators': 3}\n",
            "114.76930849868947 {'max_features': 6, 'n_estimators': 10}\n",
            "110.54367149229472 {'max_features': 6, 'n_estimators': 30}\n",
            "123.3576687058919 {'max_features': 8, 'n_estimators': 3}\n",
            "113.80398284356113 {'max_features': 8, 'n_estimators': 10}\n",
            "111.01560666196559 {'max_features': 8, 'n_estimators': 30}\n",
            "130.28107820337192 {'bootstrap': False, 'max_features': 2, 'n_estimators': 3}\n",
            "120.63231802807336 {'bootstrap': False, 'max_features': 2, 'n_estimators': 10}\n",
            "128.66110490543915 {'bootstrap': False, 'max_features': 3, 'n_estimators': 3}\n",
            "118.22134809747608 {'bootstrap': False, 'max_features': 3, 'n_estimators': 10}\n",
            "127.65119220714645 {'bootstrap': False, 'max_features': 4, 'n_estimators': 3}\n",
            "116.09593189889695 {'bootstrap': False, 'max_features': 4, 'n_estimators': 10}\n"
          ]
        }
      ]
    },
    {
      "cell_type": "code",
      "metadata": {
        "colab": {
          "base_uri": "https://localhost:8080/"
        },
        "id": "rsrcgZZPl3na",
        "outputId": "8fe37a66-f098-46ce-b2d5-2f72577052b6"
      },
      "source": [
        "final_model = grid_search.best_estimator_\n",
        "yhat = final_model.predict(X_test)\n",
        "final_mse = mean_squared_error(y_test,yhat)\n",
        "final_rmse = np.sqrt(final_mse)\n",
        "final_rmse"
      ],
      "execution_count": null,
      "outputs": [
        {
          "output_type": "execute_result",
          "data": {
            "text/plain": [
              "107.64546216307674"
            ]
          },
          "metadata": {},
          "execution_count": 71
        }
      ]
    },
    {
      "cell_type": "markdown",
      "metadata": {
        "id": "SdF-6zPQmaYa"
      },
      "source": [
        "It is better, but it require more data to have better result."
      ]
    },
    {
      "cell_type": "code",
      "metadata": {
        "colab": {
          "base_uri": "https://localhost:8080/",
          "height": 206
        },
        "id": "Ss0kB4vFnKV8",
        "outputId": "bbd5e0b8-f09e-40ed-956a-4f352836a76e"
      },
      "source": [
        "report=pd.DataFrame({'Model':['Linear Regression','Ridge Regression','Tree Decision Regression','RandomForest','FinalModel'],\n",
        "                     'RMSE':[lr_rmse_scores.mean(),rid_rmse_scores.mean(),rmse_scores.mean(),fr_rmse_scores.mean(),final_rmse],\n",
        "                     'STD':[lr_rmse_scores.std(),rid_rmse_scores.std(),rmse_scores.std(),fr_rmse_scores.std(),'']})\n",
        "report"
      ],
      "execution_count": null,
      "outputs": [
        {
          "output_type": "execute_result",
          "data": {
            "text/html": [
              "<div>\n",
              "<style scoped>\n",
              "    .dataframe tbody tr th:only-of-type {\n",
              "        vertical-align: middle;\n",
              "    }\n",
              "\n",
              "    .dataframe tbody tr th {\n",
              "        vertical-align: top;\n",
              "    }\n",
              "\n",
              "    .dataframe thead th {\n",
              "        text-align: right;\n",
              "    }\n",
              "</style>\n",
              "<table border=\"1\" class=\"dataframe\">\n",
              "  <thead>\n",
              "    <tr style=\"text-align: right;\">\n",
              "      <th></th>\n",
              "      <th>Model</th>\n",
              "      <th>RMSE</th>\n",
              "      <th>STD</th>\n",
              "    </tr>\n",
              "  </thead>\n",
              "  <tbody>\n",
              "    <tr>\n",
              "      <th>0</th>\n",
              "      <td>Linear Regression</td>\n",
              "      <td>133.593193</td>\n",
              "      <td>6.08273</td>\n",
              "    </tr>\n",
              "    <tr>\n",
              "      <th>1</th>\n",
              "      <td>Ridge Regression</td>\n",
              "      <td>133.593188</td>\n",
              "      <td>6.08282</td>\n",
              "    </tr>\n",
              "    <tr>\n",
              "      <th>2</th>\n",
              "      <td>Tree Decision Regression</td>\n",
              "      <td>145.785116</td>\n",
              "      <td>3.83538</td>\n",
              "    </tr>\n",
              "    <tr>\n",
              "      <th>3</th>\n",
              "      <td>RandomForest</td>\n",
              "      <td>109.691931</td>\n",
              "      <td>5.4671</td>\n",
              "    </tr>\n",
              "    <tr>\n",
              "      <th>4</th>\n",
              "      <td>FinalModel</td>\n",
              "      <td>107.645462</td>\n",
              "      <td></td>\n",
              "    </tr>\n",
              "  </tbody>\n",
              "</table>\n",
              "</div>"
            ],
            "text/plain": [
              "                      Model        RMSE      STD\n",
              "0         Linear Regression  133.593193  6.08273\n",
              "1          Ridge Regression  133.593188  6.08282\n",
              "2  Tree Decision Regression  145.785116  3.83538\n",
              "3              RandomForest  109.691931   5.4671\n",
              "4                FinalModel  107.645462         "
            ]
          },
          "metadata": {},
          "execution_count": 83
        }
      ]
    }
  ]
}